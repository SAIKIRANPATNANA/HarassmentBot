{
 "cells": [
  {
   "cell_type": "code",
   "execution_count": 2,
   "metadata": {},
   "outputs": [
    {
     "data": {
      "text/html": [
       "<div>\n",
       "<style scoped>\n",
       "    .dataframe tbody tr th:only-of-type {\n",
       "        vertical-align: middle;\n",
       "    }\n",
       "\n",
       "    .dataframe tbody tr th {\n",
       "        vertical-align: top;\n",
       "    }\n",
       "\n",
       "    .dataframe thead th {\n",
       "        text-align: right;\n",
       "    }\n",
       "</style>\n",
       "<table border=\"1\" class=\"dataframe\">\n",
       "  <thead>\n",
       "    <tr style=\"text-align: right;\">\n",
       "      <th></th>\n",
       "      <th>ID_No</th>\n",
       "      <th>Name</th>\n",
       "      <th>Course</th>\n",
       "      <th>DoB</th>\n",
       "      <th>Mobile</th>\n",
       "      <th>Address</th>\n",
       "      <th>Branch</th>\n",
       "      <th>Year</th>\n",
       "      <th>Section</th>\n",
       "    </tr>\n",
       "  </thead>\n",
       "  <tbody>\n",
       "    <tr>\n",
       "      <th>0</th>\n",
       "      <td>N210561</td>\n",
       "      <td>PAVITHRA BONAMSETTY</td>\n",
       "      <td>B.Tech</td>\n",
       "      <td>2005-05-09 00:00:00</td>\n",
       "      <td>6302682892</td>\n",
       "      <td>38/3120,R.K Nagar,YSR district</td>\n",
       "      <td>Civil Engineering</td>\n",
       "      <td>E-02</td>\n",
       "      <td>CE-01</td>\n",
       "    </tr>\n",
       "    <tr>\n",
       "      <th>1</th>\n",
       "      <td>N210694</td>\n",
       "      <td>PANCHUMARTHI NAGA SRAVYA SRI</td>\n",
       "      <td>B.Tech</td>\n",
       "      <td>16/07/2006</td>\n",
       "      <td>9398016138</td>\n",
       "      <td>1-23/A , ilavaram ,BHATTIPROLU (MANDAL), BAPAT...</td>\n",
       "      <td>Civil Engineering</td>\n",
       "      <td>E-02</td>\n",
       "      <td>CE-01</td>\n",
       "    </tr>\n",
       "    <tr>\n",
       "      <th>2</th>\n",
       "      <td>N210768</td>\n",
       "      <td>TALAGADADEEVI PUJITHA</td>\n",
       "      <td>B. Tech</td>\n",
       "      <td>27/11/2005</td>\n",
       "      <td>9618161864</td>\n",
       "      <td>Rajapeta, Mylavaram, NTR district</td>\n",
       "      <td>Civil Engineering</td>\n",
       "      <td>E-02</td>\n",
       "      <td>CE-01</td>\n",
       "    </tr>\n",
       "    <tr>\n",
       "      <th>3</th>\n",
       "      <td>N210977</td>\n",
       "      <td>GOGULAMUDI LAKSHMI PRATHYUSHA</td>\n",
       "      <td>B. Tech</td>\n",
       "      <td>25/06/2006</td>\n",
       "      <td>8309636373</td>\n",
       "      <td>prakasam district</td>\n",
       "      <td>civil engineering</td>\n",
       "      <td>E-02</td>\n",
       "      <td>CE-01</td>\n",
       "    </tr>\n",
       "    <tr>\n",
       "      <th>4</th>\n",
       "      <td>N210127</td>\n",
       "      <td>M YUKTHESH CHOWDARY</td>\n",
       "      <td>B Tech</td>\n",
       "      <td>22/03/2006</td>\n",
       "      <td>9390801050</td>\n",
       "      <td>10-20A,Seshapuram Village, Bangarupalem, Chittoor</td>\n",
       "      <td>Civil Engineering</td>\n",
       "      <td>E-02</td>\n",
       "      <td>CE-01</td>\n",
       "    </tr>\n",
       "  </tbody>\n",
       "</table>\n",
       "</div>"
      ],
      "text/plain": [
       "     ID_No                            Name   Course                  DoB  \\\n",
       "0  N210561             PAVITHRA BONAMSETTY   B.Tech  2005-05-09 00:00:00   \n",
       "1  N210694    PANCHUMARTHI NAGA SRAVYA SRI   B.Tech           16/07/2006   \n",
       "2  N210768           TALAGADADEEVI PUJITHA  B. Tech           27/11/2005   \n",
       "3  N210977  GOGULAMUDI LAKSHMI PRATHYUSHA   B. Tech           25/06/2006   \n",
       "4  N210127             M YUKTHESH CHOWDARY   B Tech           22/03/2006   \n",
       "\n",
       "       Mobile                                            Address  \\\n",
       "0  6302682892                     38/3120,R.K Nagar,YSR district   \n",
       "1  9398016138  1-23/A , ilavaram ,BHATTIPROLU (MANDAL), BAPAT...   \n",
       "2  9618161864                  Rajapeta, Mylavaram, NTR district   \n",
       "3  8309636373                                  prakasam district   \n",
       "4  9390801050  10-20A,Seshapuram Village, Bangarupalem, Chittoor   \n",
       "\n",
       "               Branch  Year Section  \n",
       "0   Civil Engineering  E-02   CE-01  \n",
       "1   Civil Engineering  E-02   CE-01  \n",
       "2   Civil Engineering  E-02   CE-01  \n",
       "3  civil engineering   E-02   CE-01  \n",
       "4   Civil Engineering  E-02   CE-01  "
      ]
     },
     "execution_count": 2,
     "metadata": {},
     "output_type": "execute_result"
    }
   ],
   "source": [
    "import pandas as pd\n",
    "df = pd.read_csv('data.csv')\n",
    "df.head()"
   ]
  },
  {
   "cell_type": "code",
   "execution_count": 6,
   "metadata": {},
   "outputs": [],
   "source": [
    "df.set_index('ID_No', inplace = True)"
   ]
  },
  {
   "cell_type": "code",
   "execution_count": 10,
   "metadata": {},
   "outputs": [
    {
     "data": {
      "text/html": [
       "<div>\n",
       "<style scoped>\n",
       "    .dataframe tbody tr th:only-of-type {\n",
       "        vertical-align: middle;\n",
       "    }\n",
       "\n",
       "    .dataframe tbody tr th {\n",
       "        vertical-align: top;\n",
       "    }\n",
       "\n",
       "    .dataframe thead th {\n",
       "        text-align: right;\n",
       "    }\n",
       "</style>\n",
       "<table border=\"1\" class=\"dataframe\">\n",
       "  <thead>\n",
       "    <tr style=\"text-align: right;\">\n",
       "      <th></th>\n",
       "      <th>Name</th>\n",
       "      <th>Course</th>\n",
       "      <th>DoB</th>\n",
       "      <th>Mobile</th>\n",
       "      <th>Address</th>\n",
       "      <th>Branch</th>\n",
       "      <th>Year</th>\n",
       "      <th>Section</th>\n",
       "    </tr>\n",
       "    <tr>\n",
       "      <th>ID_No</th>\n",
       "      <th></th>\n",
       "      <th></th>\n",
       "      <th></th>\n",
       "      <th></th>\n",
       "      <th></th>\n",
       "      <th></th>\n",
       "      <th></th>\n",
       "      <th></th>\n",
       "    </tr>\n",
       "  </thead>\n",
       "  <tbody>\n",
       "    <tr>\n",
       "      <th>N210561</th>\n",
       "      <td>PAVITHRA BONAMSETTY</td>\n",
       "      <td>B.Tech</td>\n",
       "      <td>2005-05-09 00:00:00</td>\n",
       "      <td>6302682892</td>\n",
       "      <td>38/3120,R.K Nagar,YSR district</td>\n",
       "      <td>Civil Engineering</td>\n",
       "      <td>E-02</td>\n",
       "      <td>CE-01</td>\n",
       "    </tr>\n",
       "    <tr>\n",
       "      <th>N210694</th>\n",
       "      <td>PANCHUMARTHI NAGA SRAVYA SRI</td>\n",
       "      <td>B.Tech</td>\n",
       "      <td>16/07/2006</td>\n",
       "      <td>9398016138</td>\n",
       "      <td>1-23/A , ilavaram ,BHATTIPROLU (MANDAL), BAPAT...</td>\n",
       "      <td>Civil Engineering</td>\n",
       "      <td>E-02</td>\n",
       "      <td>CE-01</td>\n",
       "    </tr>\n",
       "    <tr>\n",
       "      <th>N210768</th>\n",
       "      <td>TALAGADADEEVI PUJITHA</td>\n",
       "      <td>B. Tech</td>\n",
       "      <td>27/11/2005</td>\n",
       "      <td>9618161864</td>\n",
       "      <td>Rajapeta, Mylavaram, NTR district</td>\n",
       "      <td>Civil Engineering</td>\n",
       "      <td>E-02</td>\n",
       "      <td>CE-01</td>\n",
       "    </tr>\n",
       "    <tr>\n",
       "      <th>N210977</th>\n",
       "      <td>GOGULAMUDI LAKSHMI PRATHYUSHA</td>\n",
       "      <td>B. Tech</td>\n",
       "      <td>25/06/2006</td>\n",
       "      <td>8309636373</td>\n",
       "      <td>prakasam district</td>\n",
       "      <td>civil engineering</td>\n",
       "      <td>E-02</td>\n",
       "      <td>CE-01</td>\n",
       "    </tr>\n",
       "    <tr>\n",
       "      <th>N210127</th>\n",
       "      <td>M YUKTHESH CHOWDARY</td>\n",
       "      <td>B Tech</td>\n",
       "      <td>22/03/2006</td>\n",
       "      <td>9390801050</td>\n",
       "      <td>10-20A,Seshapuram Village, Bangarupalem, Chittoor</td>\n",
       "      <td>Civil Engineering</td>\n",
       "      <td>E-02</td>\n",
       "      <td>CE-01</td>\n",
       "    </tr>\n",
       "  </tbody>\n",
       "</table>\n",
       "</div>"
      ],
      "text/plain": [
       "                                   Name   Course                  DoB  \\\n",
       "ID_No                                                                   \n",
       "N210561             PAVITHRA BONAMSETTY   B.Tech  2005-05-09 00:00:00   \n",
       "N210694    PANCHUMARTHI NAGA SRAVYA SRI   B.Tech           16/07/2006   \n",
       "N210768           TALAGADADEEVI PUJITHA  B. Tech           27/11/2005   \n",
       "N210977  GOGULAMUDI LAKSHMI PRATHYUSHA   B. Tech           25/06/2006   \n",
       "N210127             M YUKTHESH CHOWDARY   B Tech           22/03/2006   \n",
       "\n",
       "             Mobile                                            Address  \\\n",
       "ID_No                                                                    \n",
       "N210561  6302682892                     38/3120,R.K Nagar,YSR district   \n",
       "N210694  9398016138  1-23/A , ilavaram ,BHATTIPROLU (MANDAL), BAPAT...   \n",
       "N210768  9618161864                  Rajapeta, Mylavaram, NTR district   \n",
       "N210977  8309636373                                  prakasam district   \n",
       "N210127  9390801050  10-20A,Seshapuram Village, Bangarupalem, Chittoor   \n",
       "\n",
       "                     Branch  Year Section  \n",
       "ID_No                                      \n",
       "N210561   Civil Engineering  E-02   CE-01  \n",
       "N210694   Civil Engineering  E-02   CE-01  \n",
       "N210768   Civil Engineering  E-02   CE-01  \n",
       "N210977  civil engineering   E-02   CE-01  \n",
       "N210127   Civil Engineering  E-02   CE-01  "
      ]
     },
     "execution_count": 10,
     "metadata": {},
     "output_type": "execute_result"
    }
   ],
   "source": [
    "df.head()"
   ]
  },
  {
   "cell_type": "code",
   "execution_count": 11,
   "metadata": {},
   "outputs": [
    {
     "data": {
      "text/plain": [
       "Name       object\n",
       "Course     object\n",
       "DoB        object\n",
       "Mobile     object\n",
       "Address    object\n",
       "Branch     object\n",
       "Year       object\n",
       "Section    object\n",
       "dtype: object"
      ]
     },
     "execution_count": 11,
     "metadata": {},
     "output_type": "execute_result"
    }
   ],
   "source": [
    "df.dtypes"
   ]
  },
  {
   "cell_type": "code",
   "execution_count": 20,
   "metadata": {},
   "outputs": [],
   "source": [
    "data = df.loc['N210132']"
   ]
  },
  {
   "cell_type": "code",
   "execution_count": 19,
   "metadata": {},
   "outputs": [
    {
     "data": {
      "text/plain": [
       "'PATNANA SAI KIRAN'"
      ]
     },
     "execution_count": 19,
     "metadata": {},
     "output_type": "execute_result"
    }
   ],
   "source": [
    "str"
   ]
  },
  {
   "cell_type": "code",
   "execution_count": 21,
   "metadata": {},
   "outputs": [
    {
     "data": {
      "text/plain": [
       "Name                                       PATNANA SAI KIRAN\n",
       "Course                                                B.Tech\n",
       "DoB                                      2005-08-16 00:00:00\n",
       "Mobile                                            6300006765\n",
       "Address    KOTABOMMAALI, SRIKAKULAM, ANDHRA PRADESH, 532195.\n",
       "Branch                                                   CSE\n",
       "Year                                                      E2\n",
       "Section                                                 CSE3\n",
       "Name: N210132, dtype: object"
      ]
     },
     "execution_count": 21,
     "metadata": {},
     "output_type": "execute_result"
    }
   ],
   "source": [
    "data"
   ]
  },
  {
   "cell_type": "code",
   "execution_count": 22,
   "metadata": {},
   "outputs": [
    {
     "data": {
      "text/plain": [
       "'PATNANA SAI KIRAN'"
      ]
     },
     "execution_count": 22,
     "metadata": {},
     "output_type": "execute_result"
    }
   ],
   "source": [
    "data['Name']"
   ]
  },
  {
   "cell_type": "code",
   "execution_count": null,
   "metadata": {},
   "outputs": [],
   "source": []
  }
 ],
 "metadata": {
  "kernelspec": {
   "display_name": "base",
   "language": "python",
   "name": "python3"
  },
  "language_info": {
   "codemirror_mode": {
    "name": "ipython",
    "version": 3
   },
   "file_extension": ".py",
   "mimetype": "text/x-python",
   "name": "python",
   "nbconvert_exporter": "python",
   "pygments_lexer": "ipython3",
   "version": "3.11.4"
  }
 },
 "nbformat": 4,
 "nbformat_minor": 2
}
